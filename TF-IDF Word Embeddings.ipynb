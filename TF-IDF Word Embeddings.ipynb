{
 "cells": [
  {
   "cell_type": "markdown",
   "metadata": {},
   "source": [
    "# TF-IDF Word Embeddings"
   ]
  },
  {
   "cell_type": "code",
   "execution_count": 1,
   "metadata": {},
   "outputs": [],
   "source": [
    "doc_complete = [\"Human machine interface for lab abc computer applications\",\n",
    "             \"A survey of user opinion of computer system response time\",\n",
    "              \"The EPS user interface management system\",\n",
    "              \"System and human system engineering testing of EPS\",\n",
    "              \"Relation of user perceived response time to error measurement\",\n",
    "              \"The generation of random binary unordered trees\",\n",
    "              \"The intersection graph of paths in trees\",\n",
    "              \"Graph minors IV Widths of trees and well quasi ordering\"]"
   ]
  },
  {
   "cell_type": "code",
   "execution_count": 2,
   "metadata": {},
   "outputs": [],
   "source": [
    "doc_clean = [doc.split() for doc in doc_complete]"
   ]
  },
  {
   "cell_type": "code",
   "execution_count": 3,
   "metadata": {},
   "outputs": [],
   "source": [
    "from sklearn.feature_extraction.text import TfidfVectorizer"
   ]
  },
  {
   "cell_type": "code",
   "execution_count": 4,
   "metadata": {},
   "outputs": [],
   "source": [
    "obj =  TfidfVectorizer(input=doc_clean, analyzer='word', ngram_range=(1,6),\n",
    "                       lowercase=True,min_df = .25,use_idf=False,\n",
    "                       stop_words = 'english')"
   ]
  },
  {
   "cell_type": "code",
   "execution_count": 5,
   "metadata": {},
   "outputs": [],
   "source": [
    "corpus = doc_complete"
   ]
  },
  {
   "cell_type": "code",
   "execution_count": 6,
   "metadata": {},
   "outputs": [],
   "source": [
    "X = obj.fit_transform(corpus)"
   ]
  },
  {
   "cell_type": "code",
   "execution_count": 7,
   "metadata": {},
   "outputs": [
    {
     "name": "stdout",
     "output_type": "stream",
     "text": [
      "  (0, 3)\t0.5773502691896258\n",
      "  (0, 4)\t0.5773502691896258\n",
      "  (0, 0)\t0.5773502691896258\n",
      "  (1, 0)\t0.4472135954999579\n",
      "  (1, 9)\t0.4472135954999579\n",
      "  (1, 5)\t0.4472135954999579\n",
      "  (1, 7)\t0.4472135954999579\n",
      "  (1, 6)\t0.4472135954999579\n",
      "  (2, 4)\t0.5773502691896258\n",
      "  (2, 9)\t0.5773502691896258\n",
      "  (2, 1)\t0.5773502691896258\n",
      "  (3, 3)\t0.7071067811865475\n",
      "  (3, 1)\t0.7071067811865475\n",
      "  (4, 9)\t0.5\n",
      "  (4, 5)\t0.5\n",
      "  (4, 7)\t0.5\n",
      "  (4, 6)\t0.5\n",
      "  (5, 8)\t1.0\n",
      "  (6, 8)\t0.7071067811865475\n",
      "  (6, 2)\t0.7071067811865475\n",
      "  (7, 8)\t0.7071067811865475\n",
      "  (7, 2)\t0.7071067811865475\n"
     ]
    }
   ],
   "source": [
    "print(X)"
   ]
  },
  {
   "cell_type": "code",
   "execution_count": 8,
   "metadata": {},
   "outputs": [],
   "source": [
    "names=obj.get_feature_names()"
   ]
  },
  {
   "cell_type": "code",
   "execution_count": 9,
   "metadata": {},
   "outputs": [],
   "source": [
    "from scipy.sparse.csr import csr_matrix"
   ]
  },
  {
   "cell_type": "code",
   "execution_count": 10,
   "metadata": {},
   "outputs": [],
   "source": [
    "import pandas as pd\n",
    "import nltk"
   ]
  },
  {
   "cell_type": "code",
   "execution_count": 11,
   "metadata": {},
   "outputs": [],
   "source": [
    "w1=[]"
   ]
  },
  {
   "cell_type": "code",
   "execution_count": 12,
   "metadata": {},
   "outputs": [],
   "source": [
    "def get_details(doc):\n",
    "    feature_index = X[doc,:].nonzero()[1]\n",
    "    tfidf_scores = zip(feature_index, [X[doc, x] for x in feature_index])\n",
    "    for w, s in [(names[i], s) for (i, s) in tfidf_scores]:\n",
    "            print(w, s)\n",
    "            w1.append(w)\n"
   ]
  },
  {
   "cell_type": "code",
   "execution_count": 13,
   "metadata": {},
   "outputs": [
    {
     "name": "stdout",
     "output_type": "stream",
     "text": [
      "\n",
      " Human machine interface for lab abc computer applications\n",
      "human 0.5773502691896258\n",
      "interface 0.5773502691896258\n",
      "computer 0.5773502691896258\n",
      "\n",
      " A survey of user opinion of computer system response time\n",
      "computer 0.4472135954999579\n",
      "user 0.4472135954999579\n",
      "response 0.4472135954999579\n",
      "time 0.4472135954999579\n",
      "response time 0.4472135954999579\n",
      "\n",
      " The EPS user interface management system\n",
      "interface 0.5773502691896258\n",
      "user 0.5773502691896258\n",
      "eps 0.5773502691896258\n",
      "\n",
      " System and human system engineering testing of EPS\n",
      "human 0.7071067811865475\n",
      "eps 0.7071067811865475\n",
      "\n",
      " Relation of user perceived response time to error measurement\n",
      "user 0.5\n",
      "response 0.5\n",
      "time 0.5\n",
      "response time 0.5\n",
      "\n",
      " The generation of random binary unordered trees\n",
      "trees 1.0\n",
      "\n",
      " The intersection graph of paths in trees\n",
      "trees 0.7071067811865475\n",
      "graph 0.7071067811865475\n",
      "\n",
      " Graph minors IV Widths of trees and well quasi ordering\n",
      "trees 0.7071067811865475\n",
      "graph 0.7071067811865475\n"
     ]
    }
   ],
   "source": [
    "for i in range(0,len(doc_complete)):\n",
    "    print('\\n',doc_complete[i])\n",
    "    get_details(i)"
   ]
  },
  {
   "cell_type": "code",
   "execution_count": 14,
   "metadata": {},
   "outputs": [
    {
     "data": {
      "text/plain": [
       "user             3\n",
       "trees            3\n",
       "human            2\n",
       "graph            2\n",
       "response time    2\n",
       "response         2\n",
       "eps              2\n",
       "computer         2\n",
       "interface        2\n",
       "time             2\n",
       "dtype: int64"
      ]
     },
     "execution_count": 14,
     "metadata": {},
     "output_type": "execute_result"
    }
   ],
   "source": [
    "pd.Series(w1).value_counts()"
   ]
  },
  {
   "cell_type": "code",
   "execution_count": 15,
   "metadata": {},
   "outputs": [
    {
     "data": {
      "text/plain": [
       "[2, 2, 2, 3, 2, 2, 2, 2, 3, 2]"
      ]
     },
     "execution_count": 15,
     "metadata": {},
     "output_type": "execute_result"
    }
   ],
   "source": [
    "freq=nltk.FreqDist(w1)\n",
    "list(freq.keys()) \n",
    "list(freq.values()) "
   ]
  },
  {
   "cell_type": "code",
   "execution_count": 16,
   "metadata": {},
   "outputs": [],
   "source": [
    "subst=freq.most_common(5)"
   ]
  },
  {
   "cell_type": "code",
   "execution_count": 17,
   "metadata": {},
   "outputs": [
    {
     "data": {
      "text/plain": [
       "[('user', 3), ('trees', 3), ('human', 2), ('interface', 2), ('computer', 2)]"
      ]
     },
     "execution_count": 17,
     "metadata": {},
     "output_type": "execute_result"
    }
   ],
   "source": [
    "subst"
   ]
  },
  {
   "cell_type": "code",
   "execution_count": 18,
   "metadata": {},
   "outputs": [],
   "source": [
    "import os"
   ]
  },
  {
   "cell_type": "code",
   "execution_count": 20,
   "metadata": {},
   "outputs": [],
   "source": [
    "os.chdir(r'E:\\myPython\\NLP\\TF-IDF')"
   ]
  }
 ],
 "metadata": {
  "kernelspec": {
   "display_name": "Python 3",
   "language": "python",
   "name": "python3"
  },
  "language_info": {
   "codemirror_mode": {
    "name": "ipython",
    "version": 3
   },
   "file_extension": ".py",
   "mimetype": "text/x-python",
   "name": "python",
   "nbconvert_exporter": "python",
   "pygments_lexer": "ipython3",
   "version": "3.7.4"
  }
 },
 "nbformat": 4,
 "nbformat_minor": 2
}
